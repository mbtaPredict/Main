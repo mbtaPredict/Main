{
 "cells": [
  {
   "cell_type": "code",
   "execution_count": 37,
   "metadata": {
    "collapsed": false
   },
   "outputs": [],
   "source": [
    "import pickle\n",
    "import numpy as np\n",
    "import matplotlib.pyplot as plt\n",
    "\n",
    "from sklearn.linear_model import LinearRegression, Ridge\n",
    "from sklearn.cross_validation import train_test_split\n",
    "\n",
    "from pprint import pprint"
   ]
  },
  {
   "cell_type": "code",
   "execution_count": 4,
   "metadata": {
    "collapsed": false
   },
   "outputs": [],
   "source": [
    "#load weather data\n",
    "from weather_collection import WeatherDatum\n",
    "weather = pickle.load(open('LargeDataStorage/weatherDataFile', 'rb'))\n",
    "\n",
    "#load hubway data\n",
    "hubway = pickle.load(open('LargeDataStorage/hubwayDataFile', 'rb'))"
   ]
  },
  {
   "cell_type": "code",
   "execution_count": 5,
   "metadata": {
    "collapsed": true
   },
   "outputs": [],
   "source": [
    "def count_riders(year, month, day, hour):\n",
    "\t\"\"\"\n",
    "\tInput: year, month, day, hour\n",
    "\tOutput: total riders during that hour\n",
    "\t\"\"\"\n",
    "\n",
    "\t#initialize counter\n",
    "\tcounter = 0\n",
    "\n",
    "\t#counts riders during a given hour\n",
    "\tfor minute in range(0,60):\n",
    "\t\t#-1 means that there is no data for that time, so we don't count that\n",
    "\t\tif hubway.data[year][month][day+1][hour][minute] == -1:\n",
    "\t\t\tpass\n",
    "\t\telse:\n",
    "\t\t\tcounter += len(hubway.data[year][month][day+1][hour][minute])\n",
    "\treturn counter"
   ]
  },
  {
   "cell_type": "code",
   "execution_count": 7,
   "metadata": {
    "collapsed": true
   },
   "outputs": [],
   "source": [
    "def process_data(year):\n",
    "\t\"\"\"\n",
    "\tReturns 2 lists, 1 of temperatures, 1 of associated ridership.\n",
    "\t\"\"\"\n",
    "\n",
    "\t#determines whether or not it is a leap year\n",
    "\tif year % 4 == 0:\n",
    "\t\tnumDaysInMonth = [31, 29, 31, 30, 31, 30, 31, 31, 30, 31, 30, 31]\n",
    "\telse:\n",
    "\t\tnumDaysInMonth = [31, 28, 31, 30, 31, 30, 31, 31, 30, 31, 30, 31]\n",
    "\n",
    "\triders_vs_temp = {}\n",
    "\n",
    "\t#adds all hourly temperatures in given year to dictionary as keys with values of 0\n",
    "\tfor m in range(1,13):\n",
    "\t\tfor d in range(numDaysInMonth[m-1]):\n",
    "\t\t\tfor h in range(0,24):\n",
    "\t\t\t\tif int(float(weather.data[year][m][d+1][h]['tempi'])) < -100:\n",
    "\t\t\t\t\tpass\n",
    "\t\t\t\telse:\n",
    "\t\t\t\t\triders_vs_temp[int(float(weather.data[year][m][d+1][h]['tempi']))] = 0\n",
    "\n",
    "\t#adds number of riders to associated temperature in the dictionary\n",
    "\tfor month in range(1,13):\n",
    "\t\tfor day in range(numDaysInMonth[month-1]):\n",
    "\t\t\tfor hour in range(24):\n",
    "\t\t\t\tif int(float(weather.data[year][month][day+1][hour]['tempi'])) < -100:\n",
    "\t\t\t\t\tpass\n",
    "\t\t\t\telse:\n",
    "\t\t\t\t\triders_vs_temp[int(float(weather.data[year][month][day+1][hour]['tempi']))] += count_riders(year, month, day, hour)\n",
    "\n",
    "\treturn riders_vs_temp.keys(), riders_vs_temp.values()"
   ]
  },
  {
   "cell_type": "code",
   "execution_count": 46,
   "metadata": {
    "collapsed": false
   },
   "outputs": [
    {
     "name": "stdout",
     "output_type": "stream",
     "text": [
      "Train R2 0.702792\n",
      "Test R2 0.717079\n"
     ]
    },
    {
     "name": "stderr",
     "output_type": "stream",
     "text": [
      "/usr/local/lib/python2.7/dist-packages/IPython/kernel/__main__.py:23: RuntimeWarning: divide by zero encountered in log\n"
     ]
    }
   ],
   "source": [
    "def lin_reg():\n",
    "\n",
    "    temperatures, ridership = process_data(2013)\n",
    "\n",
    "    # print \"Raw Data\"\n",
    "    # print(temperatures)\n",
    "    # print(ridership)\n",
    "    # print temperatures[:,np.newaxis]\n",
    "    # pprint(np.transpose(temperatures))\n",
    "\n",
    "    # X_train, X_test, y_train, y_test = train_test_split(temperatures, ridership, train_size=0.5)\n",
    "\n",
    "    # print \"train_test_split output\"\n",
    "    # pprint(X_train)\n",
    "    # pprint(X_test)\n",
    "    # pprint(y_train)\n",
    "    # pprint(y_test)\n",
    "  \n",
    "    temps = np.array(temperatures)\n",
    "    rides = np.array(ridership)\n",
    "    \n",
    "    temps = np.log(temps)\n",
    "    rides = np.log(rides)\n",
    "    \n",
    "    #removes infinity from log and sets to 0\n",
    "    for i in range(len(rides)):\n",
    "        if rides[i] == -np.inf:\n",
    "            rides[i] = 0\n",
    "    \n",
    "#     temps = np.multiply(temps, temps)\n",
    "    \n",
    "    temps = temps.reshape(temps.shape[0], -1)\n",
    "    rides = rides.reshape(rides.shape[0], -1)\n",
    "        \n",
    "#     print \"reshaped things\"\n",
    "#     pprint(temps)\n",
    "#     pprint(rides)\n",
    "    \n",
    "    X_train, X_test, y_train, y_test = train_test_split(temps, rides, train_size=0.5)\n",
    "\n",
    "    model = LinearRegression()\n",
    "    model.fit(X_train, y_train)\n",
    "    print \"Train R2 %f\"%model.score(X_train, y_train)\n",
    "    print \"Test R2 %f\"%model.score(X_test, y_test)\n",
    "\n",
    "lin_reg()"
   ]
  },
  {
   "cell_type": "code",
   "execution_count": 52,
   "metadata": {
    "collapsed": false
   },
   "outputs": [
    {
     "name": "stderr",
     "output_type": "stream",
     "text": [
      "/usr/local/lib/python2.7/dist-packages/IPython/kernel/__main__.py:3: RuntimeWarning: divide by zero encountered in log\n",
      "  app.launch_new_instance()\n"
     ]
    }
   ],
   "source": [
    "temperatures, ridership = process_data(2013)\n",
    "\n",
    "plt.scatter(np.log(temperatures), np.log(ridership))\n",
    "plt.show()"
   ]
  },
  {
   "cell_type": "code",
   "execution_count": 53,
   "metadata": {
    "collapsed": false
   },
   "outputs": [
    {
     "name": "stderr",
     "output_type": "stream",
     "text": [
      "/usr/local/lib/python2.7/dist-packages/IPython/kernel/__main__.py:3: RuntimeWarning: divide by zero encountered in log10\n",
      "  app.launch_new_instance()\n"
     ]
    }
   ],
   "source": [
    "temperatures, ridership = process_data(2013)\n",
    "\n",
    "plt.scatter(np.log10(temperatures), np.log10(ridership))\n",
    "plt.show()"
   ]
  },
  {
   "cell_type": "code",
   "execution_count": 54,
   "metadata": {
    "collapsed": true
   },
   "outputs": [],
   "source": [
    "temperatures, ridership = process_data(2013)\n",
    "\n",
    "plt.scatter(temperatures, ridership)\n",
    "plt.show()"
   ]
  },
  {
   "cell_type": "code",
   "execution_count": 55,
   "metadata": {
    "collapsed": true
   },
   "outputs": [],
   "source": [
    "temperatures, ridership = process_data(2013)\n",
    "\n",
    "plt.plot(np.square(temperatures), np.square(ridership))\n",
    "plt.show()"
   ]
  },
  {
   "cell_type": "code",
   "execution_count": null,
   "metadata": {
    "collapsed": true
   },
   "outputs": [],
   "source": []
  }
 ],
 "metadata": {
  "kernelspec": {
   "display_name": "Python 2",
   "language": "python",
   "name": "python2"
  },
  "language_info": {
   "codemirror_mode": {
    "name": "ipython",
    "version": 2
   },
   "file_extension": ".py",
   "mimetype": "text/x-python",
   "name": "python",
   "nbconvert_exporter": "python",
   "pygments_lexer": "ipython2",
   "version": "2.7.6"
  }
 },
 "nbformat": 4,
 "nbformat_minor": 0
}
